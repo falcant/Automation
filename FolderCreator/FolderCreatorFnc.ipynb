{
 "cells": [
  {
   "cell_type": "markdown",
   "metadata": {},
   "source": [
    "# Folder Creator:\n",
    "\n",
    "## This code was done for the purpose of creating subfolder in multiple locations.\n",
    "\n",
    "## We have an excel file with all the folder names where a new subfolder needs to be created.  This file will go over each folder name, match it with the destination path and then create a subfolder.\n",
    "\n",
    "# This function has 4 parameters:\n",
    "\n",
    "## data: pandas data frame used to read the excel file.\n",
    "\n",
    "## foldernames: the column that contains all the folder names. \n",
    "\n",
    "## path : the path associated with the folder name. (we will conect this path with each of the folder names)\n",
    "\n",
    "## subfoldername: the name of the subfolder we are trying to create.\n",
    "\n",
    "\n",
    "## Example:\n",
    "\n",
    "### if one of the folder's name is \"Hello\", the path is \"D:\\Python\" , and the subfolder name is \"World\", there will be a new subfolder called \"World\" inside the \"Hello\" folder. In other words, there will be a new path:\n",
    "\n",
    "### \"D:\\Python\\Hello\\World\"\n",
    "\n"
   ]
  },
  {
   "cell_type": "code",
   "execution_count": 6,
   "metadata": {},
   "outputs": [],
   "source": [
    "from os import listdir\n",
    "from os.path import isfile, join\n",
    "import pandas as pd\n",
    "import re\n",
    "import shutil\n",
    "import os"
   ]
  },
  {
   "cell_type": "code",
   "execution_count": 100,
   "metadata": {},
   "outputs": [],
   "source": [
    "# foldernames : this is the excel file that contains all the names of the folders (string)\n",
    "def foldercreator(data,foldernames,path,subfoldername):\n",
    "    df = pd.read_excel(data)\n",
    "    for index,row in df.iterrows():\n",
    "        k  = row[foldernames]\n",
    "        Newpath = path  + k + \"\\\\\" + subfoldername\n",
    "        #Newpath = path  + k \n",
    "        if not os.path.exists(Newpath): # If path doesnt exists, create it.\n",
    "            os.makedirs(Newpath)\n",
    "            #print(\"New path created: \" +   Newpath)\n",
    "        # this option is if you wish to remove the subfolder (remember to remove the 'no' in the last if loop)\n",
    "            #shutil.rmtree(Newpath)\n",
    "    print(\"done\")"
   ]
  },
  {
   "cell_type": "code",
   "execution_count": 101,
   "metadata": {},
   "outputs": [],
   "source": [
    "# This is an example\n",
    "\n",
    "path = r'D:\\LAHSA\\CPR\\test\\\\'\n",
    "data = \"FileShareID.xlsx\"\n",
    "foldernames = \"FileShareID\"\n",
    "subfoldername = \"Q2\"\n"
   ]
  },
  {
   "cell_type": "code",
   "execution_count": 102,
   "metadata": {},
   "outputs": [
    {
     "name": "stdout",
     "output_type": "stream",
     "text": [
      "done\n"
     ]
    }
   ],
   "source": [
    "foldercreator(data,foldernames,path,subfoldername)"
   ]
  },
  {
   "cell_type": "code",
   "execution_count": null,
   "metadata": {},
   "outputs": [],
   "source": []
  },
  {
   "cell_type": "code",
   "execution_count": null,
   "metadata": {},
   "outputs": [],
   "source": []
  }
 ],
 "metadata": {
  "kernelspec": {
   "display_name": "Python 3",
   "language": "python",
   "name": "python3"
  },
  "language_info": {
   "codemirror_mode": {
    "name": "ipython",
    "version": 3
   },
   "file_extension": ".py",
   "mimetype": "text/x-python",
   "name": "python",
   "nbconvert_exporter": "python",
   "pygments_lexer": "ipython3",
   "version": "3.7.6"
  }
 },
 "nbformat": 4,
 "nbformat_minor": 2
}
