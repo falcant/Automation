{
 "cells": [
  {
   "cell_type": "markdown",
   "metadata": {},
   "source": [
    "# Transfering Values To an Excel Template\n",
    "## This code will allow you to transfer values from a Pandas Dataframe to an excel template. We will create a pandas Dataframe os size 1 x 4 and transfer these values to a cell template.\n",
    "\n",
    "### Created by Felix Alcantara"
   ]
  },
  {
   "cell_type": "markdown",
   "metadata": {},
   "source": [
    "## Importing Packages"
   ]
  },
  {
   "cell_type": "code",
   "execution_count": 13,
   "metadata": {},
   "outputs": [],
   "source": [
    "import pandas as pd\n",
    "import openpyxl\n",
    "from openpyxl.utils.dataframe import dataframe_to_rows"
   ]
  },
  {
   "cell_type": "markdown",
   "metadata": {},
   "source": [
    "## Creating a Pandas Dataframe\n",
    "### We have different values to show that it works with integers, strings, and decimals. "
   ]
  },
  {
   "cell_type": "code",
   "execution_count": 14,
   "metadata": {},
   "outputs": [],
   "source": [
    "df1 = pd.DataFrame({'Data': ['Hello', 13, 14, 15.04]})"
   ]
  },
  {
   "cell_type": "code",
   "execution_count": 15,
   "metadata": {},
   "outputs": [
    {
     "data": {
      "text/html": [
       "<div>\n",
       "<style scoped>\n",
       "    .dataframe tbody tr th:only-of-type {\n",
       "        vertical-align: middle;\n",
       "    }\n",
       "\n",
       "    .dataframe tbody tr th {\n",
       "        vertical-align: top;\n",
       "    }\n",
       "\n",
       "    .dataframe thead th {\n",
       "        text-align: right;\n",
       "    }\n",
       "</style>\n",
       "<table border=\"1\" class=\"dataframe\">\n",
       "  <thead>\n",
       "    <tr style=\"text-align: right;\">\n",
       "      <th></th>\n",
       "      <th>Data</th>\n",
       "    </tr>\n",
       "  </thead>\n",
       "  <tbody>\n",
       "    <tr>\n",
       "      <th>0</th>\n",
       "      <td>Hello</td>\n",
       "    </tr>\n",
       "    <tr>\n",
       "      <th>1</th>\n",
       "      <td>13</td>\n",
       "    </tr>\n",
       "    <tr>\n",
       "      <th>2</th>\n",
       "      <td>14</td>\n",
       "    </tr>\n",
       "    <tr>\n",
       "      <th>3</th>\n",
       "      <td>15.04</td>\n",
       "    </tr>\n",
       "  </tbody>\n",
       "</table>\n",
       "</div>"
      ],
      "text/plain": [
       "    Data\n",
       "0  Hello\n",
       "1     13\n",
       "2     14\n",
       "3  15.04"
      ]
     },
     "execution_count": 15,
     "metadata": {},
     "output_type": "execute_result"
    }
   ],
   "source": [
    "df1"
   ]
  },
  {
   "cell_type": "markdown",
   "metadata": {},
   "source": [
    "## Function to paste values\n",
    "### Parameters:\n",
    "dataframe : Pandas Dataframe (for our example this would be df1) \\\n",
    "r_idx_start : row index where you want to copy the values in the template \\\n",
    "c_idx_start : column index where you want to copy the values in the template"
   ]
  },
  {
   "cell_type": "code",
   "execution_count": 16,
   "metadata": {},
   "outputs": [],
   "source": [
    "def paste_values(dataframe,r_idx_start,c_idx_start):\n",
    "    rows = dataframe_to_rows(dataframe,index=False,header=False)\n",
    "    for r_idx, row in enumerate(rows, r_idx_start):  #starts at 3 as you want to skip the first 2 rows\n",
    "        for c_idx, value in enumerate(row, c_idx_start):\n",
    "             ws.cell(row=r_idx, column=c_idx, value=value)"
   ]
  },
  {
   "cell_type": "markdown",
   "metadata": {},
   "source": [
    "## Opening the template\n",
    "### This process will generate a new copy or the template with the new values yo inserted. You can Inser as many values as needed, all you need to do is to use the 'paste_values' function with the correct row,index values."
   ]
  },
  {
   "cell_type": "code",
   "execution_count": 17,
   "metadata": {},
   "outputs": [],
   "source": [
    "# Opening the Template\n",
    "wb= openpyxl.load_workbook('template.xlsx')\n",
    "# opening the sheet in the template\n",
    "ws = wb['Sheet1']\n",
    "# Using the 'paste_values' function to copy the values from our dataframe to the index 2,2 (this is row 2, colunm B)\n",
    "# in the template\n",
    "paste_values(df1,2,2)\n",
    "# Saving : this will Save a copy of the template with the values you inserted\n",
    "wb.save('template_with_values.xlsx')"
   ]
  },
  {
   "cell_type": "code",
   "execution_count": null,
   "metadata": {},
   "outputs": [],
   "source": []
  }
 ],
 "metadata": {
  "kernelspec": {
   "display_name": "Python 3",
   "language": "python",
   "name": "python3"
  },
  "language_info": {
   "codemirror_mode": {
    "name": "ipython",
    "version": 3
   },
   "file_extension": ".py",
   "mimetype": "text/x-python",
   "name": "python",
   "nbconvert_exporter": "python",
   "pygments_lexer": "ipython3",
   "version": "3.8.5"
  }
 },
 "nbformat": 4,
 "nbformat_minor": 4
}
