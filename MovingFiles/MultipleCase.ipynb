{
 "cells": [
  {
   "cell_type": "markdown",
   "metadata": {},
   "source": [
    "# Moving files (Multiple Case):\n",
    "\n",
    "## This code was made to move files from one folder that contains a number of different sub folder, to another folder that contains the name number of subfolders.\n",
    "\n",
    "## For example, we have a folder called \"source\", and this folder contains 20 subfolders. Each subfolder contains a file that ends with  \"_Thus.xlsx\".\n",
    "\n",
    "## So this code will find each of these files in each subfolder and move them  to another folder (using the variable \"target\") , that has the same number of subfolders.\n",
    "\n",
    "## The name of these subfolders are stored in an excel file. We will use this file so we can create an interation process.\n",
    "\n",
    "## The base case scenario:\n",
    "## lets say my source is the following folder:\n",
    "\n",
    "## \"D:\\LAHSA\\CPR\\source(multiplecase)\" \n",
    "\n",
    "## and inside there, there is a subfolder\n",
    "## called \"LA_VOA\", inside this sub folder, we can to move files that end in \"Thus.xlsx\" to another folder (called target):\n",
    "\n",
    "## \"D:\\LAHSA\\CPR\\target(multiplecase)\" \n",
    "\n",
    "## which also contains the same subfolder \"LA_VOA\"\n",
    "\n",
    "## so we move the files, and only make an iteration using the excel list containing the name of the subfolders."
   ]
  },
  {
   "cell_type": "code",
   "execution_count": 14,
   "metadata": {},
   "outputs": [],
   "source": [
    "from os import listdir\n",
    "from os.path import isfile, join\n",
    "import pandas as pd\n",
    "import re\n",
    "import shutil\n",
    "from shutil import copyfile\n",
    "import os"
   ]
  },
  {
   "cell_type": "code",
   "execution_count": 15,
   "metadata": {},
   "outputs": [
    {
     "data": {
      "text/html": [
       "<div>\n",
       "<style scoped>\n",
       "    .dataframe tbody tr th:only-of-type {\n",
       "        vertical-align: middle;\n",
       "    }\n",
       "\n",
       "    .dataframe tbody tr th {\n",
       "        vertical-align: top;\n",
       "    }\n",
       "\n",
       "    .dataframe thead th {\n",
       "        text-align: right;\n",
       "    }\n",
       "</style>\n",
       "<table border=\"1\" class=\"dataframe\">\n",
       "  <thead>\n",
       "    <tr style=\"text-align: right;\">\n",
       "      <th></th>\n",
       "      <th>FileShareID</th>\n",
       "    </tr>\n",
       "  </thead>\n",
       "  <tbody>\n",
       "    <tr>\n",
       "      <th>0</th>\n",
       "      <td>LA_VOA</td>\n",
       "    </tr>\n",
       "    <tr>\n",
       "      <th>1</th>\n",
       "      <td>LA_VOA</td>\n",
       "    </tr>\n",
       "    <tr>\n",
       "      <th>2</th>\n",
       "      <td>LA_AVD</td>\n",
       "    </tr>\n",
       "    <tr>\n",
       "      <th>3</th>\n",
       "      <td>LA_USF</td>\n",
       "    </tr>\n",
       "    <tr>\n",
       "      <th>4</th>\n",
       "      <td>LA_STJ</td>\n",
       "    </tr>\n",
       "  </tbody>\n",
       "</table>\n",
       "</div>"
      ],
      "text/plain": [
       "  FileShareID\n",
       "0      LA_VOA\n",
       "1      LA_VOA\n",
       "2      LA_AVD\n",
       "3      LA_USF\n",
       "4      LA_STJ"
      ]
     },
     "execution_count": 15,
     "metadata": {},
     "output_type": "execute_result"
    }
   ],
   "source": [
    "# reading and viewing the excel file\n",
    "df = pd.read_excel(\"FileShareID.xlsx\")\n",
    "df.head() # this will only show you a portion"
   ]
  },
  {
   "cell_type": "code",
   "execution_count": 16,
   "metadata": {},
   "outputs": [],
   "source": [
    "word = \"_Thus.xlsx\" "
   ]
  },
  {
   "cell_type": "code",
   "execution_count": 17,
   "metadata": {},
   "outputs": [
    {
     "name": "stdout",
     "output_type": "stream",
     "text": [
      "Moving file: E7 Data Pull_Thus.xlsx from folder: D:\\LAHSA\\CPR\\source(multiplecase)\\\\LA_VOA\\ to D:\\LAHSA\\CPR\\target(multiplecase)\\\\LA_VOA\\\n",
      "Moving file: E7_Data Report_FY 18-19_Thus.xlsx from folder: D:\\LAHSA\\CPR\\source(multiplecase)\\\\LA_VOA\\ to D:\\LAHSA\\CPR\\target(multiplecase)\\\\LA_VOA\\\n",
      "Moving file: E7 Data Pull_Thus.xlsx from folder: D:\\LAHSA\\CPR\\source(multiplecase)\\\\LA_AVD\\ to D:\\LAHSA\\CPR\\target(multiplecase)\\\\LA_AVD\\\n",
      "Moving file: E7_Data Report_FY 18-19_Thus.xlsx from folder: D:\\LAHSA\\CPR\\source(multiplecase)\\\\LA_AVD\\ to D:\\LAHSA\\CPR\\target(multiplecase)\\\\LA_AVD\\\n",
      "Moving file: E7 Data Pull_Thus.xlsx from folder: D:\\LAHSA\\CPR\\source(multiplecase)\\\\LA_USF\\ to D:\\LAHSA\\CPR\\target(multiplecase)\\\\LA_USF\\\n",
      "Moving file: E7_Data Report_FY 18-19_Thus.xlsx from folder: D:\\LAHSA\\CPR\\source(multiplecase)\\\\LA_USF\\ to D:\\LAHSA\\CPR\\target(multiplecase)\\\\LA_USF\\\n",
      "Finished!\n"
     ]
    }
   ],
   "source": [
    "for index,row in df.iterrows():\n",
    "    \n",
    "    k = row['FileShareID']\n",
    "    \n",
    "    \n",
    "    #this is the path that contains the files you are looking for, change this to your personal path\n",
    "    # DO NOT REMOVE THE r AT THE BEGINNING  AND ALWAYS PUT '\\\\' AT THE END\n",
    "    source = r'D:\\LAHSA\\CPR\\source(multiplecase)\\\\' + k + '\\\\'\n",
    "    target = r'D:\\LAHSA\\CPR\\target(multiplecase)\\\\' + k + '\\\\'\n",
    "    if os.path.exists(source):\n",
    "        for i in os.listdir(source):      \n",
    "            if word in i:  \n",
    "                shutil.move(source + i, target)\n",
    "                print(\"Moving file: \" +  str(i) + \" from folder: \" + source + \" to \" + target)\n",
    "print(\"Finished!\")     "
   ]
  },
  {
   "cell_type": "code",
   "execution_count": null,
   "metadata": {},
   "outputs": [],
   "source": [
    "\n",
    "\n"
   ]
  },
  {
   "cell_type": "code",
   "execution_count": null,
   "metadata": {},
   "outputs": [],
   "source": []
  }
 ],
 "metadata": {
  "kernelspec": {
   "display_name": "Python 3",
   "language": "python",
   "name": "python3"
  },
  "language_info": {
   "codemirror_mode": {
    "name": "ipython",
    "version": 3
   },
   "file_extension": ".py",
   "mimetype": "text/x-python",
   "name": "python",
   "nbconvert_exporter": "python",
   "pygments_lexer": "ipython3",
   "version": "3.7.6"
  }
 },
 "nbformat": 4,
 "nbformat_minor": 2
}
