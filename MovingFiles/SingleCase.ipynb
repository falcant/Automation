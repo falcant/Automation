{
 "cells": [
  {
   "cell_type": "markdown",
   "metadata": {},
   "source": [
    "# Moving files (single case):\n",
    "\n",
    "# This code will allow you to move certain files from one folder to another folder.\n",
    "\n",
    "# For this project I chose to move file names, from our \"source\" folder, that contain \"_Thus.xlsx\" to our \"target\" folder.\n",
    "\n",
    "## I created a list that contains the names of the files satisfying this condition before making the moving process. that way the user can Identify the number of files being moved.\n",
    "\n",
    "## If instead of just miving the files, you want to copy the files instead, look at the last cell block and do the following:\n",
    "\n",
    "### uncomment this line (that is, remove the hashtag): \n",
    "    shutil.copy(source + file, target)\n",
    "    \n",
    "### comment this line (that is, add a hastag)\n",
    "    #shutil.move(source + file, target)\n",
    "\n"
   ]
  },
  {
   "cell_type": "code",
   "execution_count": 1,
   "metadata": {},
   "outputs": [],
   "source": [
    "from os import listdir\n",
    "from os.path import isfile, join\n",
    "import pandas as pd\n",
    "import re\n",
    "import shutil\n",
    "from shutil import copyfile\n",
    "import os"
   ]
  },
  {
   "cell_type": "code",
   "execution_count": 5,
   "metadata": {},
   "outputs": [],
   "source": [
    "# Parameters:\n",
    "#this is the path that contains the files you are looking for, change this to your personal path\n",
    "# DO NOT REMOVE THE FILE \n",
    "source = r'D:\\LAHSA\\CPR\\source\\\\'\n",
    "\n",
    "# this is the folder where your files are going to\n",
    "\n",
    "target = r'D:\\LAHSA\\CPR\\target\\\\'\n",
    "\n",
    "# this is the word that each file should contain, you can change this to whatever you want\n",
    "word = \"_Thus.xlsx\" \n",
    "\n",
    "#this list will contain the name of the files you want to copy                \n",
    "files = [] "
   ]
  },
  {
   "cell_type": "code",
   "execution_count": 6,
   "metadata": {},
   "outputs": [],
   "source": [
    "# Collecting the names of the files you are trying to move:\n",
    "# REMEMBER  that this loop will only take the files that contain \"_Q3\".\n",
    "for i in os.listdir(source):\n",
    "        \n",
    "        if word in i: \n",
    "            files.append(i)"
   ]
  },
  {
   "cell_type": "code",
   "execution_count": 7,
   "metadata": {},
   "outputs": [
    {
     "data": {
      "text/plain": [
       "['E7 Data Pull_Thus.xlsx', 'E7_Data Report_FY 18-19_Thus.xlsx']"
      ]
     },
     "execution_count": 7,
     "metadata": {},
     "output_type": "execute_result"
    }
   ],
   "source": [
    "# Run this block to check the files inside the 'files' = list\n",
    "files"
   ]
  },
  {
   "cell_type": "code",
   "execution_count": 91,
   "metadata": {},
   "outputs": [],
   "source": [
    "for file in files:\n",
    "    # THIS IS FOR COPYING  OR MOVING FILES FROM ONE FOLDER TO ANOTHER\n",
    "    #shutil.copy(source + file, target)\n",
    "    shutil.move(source + file, target)\n",
    "    print(\"Moving file: \", file)\n",
    "print(\"Process Completed\")"
   ]
  }
 ],
 "metadata": {
  "kernelspec": {
   "display_name": "Python 3",
   "language": "python",
   "name": "python3"
  },
  "language_info": {
   "codemirror_mode": {
    "name": "ipython",
    "version": 3
   },
   "file_extension": ".py",
   "mimetype": "text/x-python",
   "name": "python",
   "nbconvert_exporter": "python",
   "pygments_lexer": "ipython3",
   "version": "3.7.6"
  }
 },
 "nbformat": 4,
 "nbformat_minor": 2
}
